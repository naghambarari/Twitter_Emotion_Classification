{
 "cells": [
  {
   "cell_type": "code",
   "execution_count": null,
   "id": "1545c1f2-3dc7-4b0f-9d6b-dbf883aca439",
   "metadata": {},
   "outputs": [],
   "source": [
    "#hellow world\n",
    "Name=nagham"
   ]
  },
  {
   "cell_type": "code",
   "execution_count": 1,
   "id": "48cafead-909a-42c5-b2f4-139b637c5443",
   "metadata": {},
   "outputs": [
    {
     "name": "stdout",
     "output_type": "stream",
     "text": [
      "hello world my name is (Name) and this line is set for testing\n"
     ]
    }
   ],
   "source": [
    "print(\"hello world my name is (Name) and this line is set for testing\")"
   ]
  },
  {
   "cell_type": "code",
   "execution_count": null,
   "id": "6483f469-d1d0-4099-ad29-0ff9c467a20e",
   "metadata": {},
   "outputs": [],
   "source": []
  }
 ],
 "metadata": {
  "kernelspec": {
   "display_name": "Python 3 (ipykernel)",
   "language": "python",
   "name": "python3"
  },
  "language_info": {
   "codemirror_mode": {
    "name": "ipython",
    "version": 3
   },
   "file_extension": ".py",
   "mimetype": "text/x-python",
   "name": "python",
   "nbconvert_exporter": "python",
   "pygments_lexer": "ipython3",
   "version": "3.12.7"
  }
 },
 "nbformat": 4,
 "nbformat_minor": 5
}
