{
 "cells": [
  {
   "cell_type": "code",
   "execution_count": null,
   "id": "770ffe93-0738-4d20-822e-57757faaff0b",
   "metadata": {},
   "outputs": [],
   "source": [
    "#test for repo"
   ]
  },
  {
   "cell_type": "code",
   "execution_count": null,
   "id": "eb13512e-05a5-4841-81dd-1ab13599a150",
   "metadata": {},
   "outputs": [],
   "source": [
    "print(\"classification\")"
   ]
  }
 ],
 "metadata": {
  "kernelspec": {
   "display_name": "Python 3 (ipykernel)",
   "language": "python",
   "name": "python3"
  },
  "language_info": {
   "codemirror_mode": {
    "name": "ipython",
    "version": 3
   },
   "file_extension": ".py",
   "mimetype": "text/x-python",
   "name": "python",
   "nbconvert_exporter": "python",
   "pygments_lexer": "ipython3",
   "version": "3.12.7"
  }
 },
 "nbformat": 4,
 "nbformat_minor": 5
}
