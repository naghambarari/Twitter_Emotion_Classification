{
 "cells": [
  {
   "cell_type": "code",
   "execution_count": 45,
   "id": "b4cd7e9d-9385-47bd-a441-3054ad785d43",
   "metadata": {
    "scrolled": true
   },
   "outputs": [],
   "source": [
    "import pandas as pd\n",
    "#loading training data\n",
    "train=pd.read_csv('./database/training.csv')\n",
    "test=pd.read_csv('./database/test.csv')\n",
    "validate=pd.read_csv('./database/validation.csv')"
   ]
  },
  {
   "cell_type": "code",
   "execution_count": 49,
   "id": "4e86b014-9dc3-4c62-bc44-0b7188945e69",
   "metadata": {},
   "outputs": [
    {
     "name": "stdout",
     "output_type": "stream",
     "text": [
      "Dataset information:\n",
      "Training data: (16000, 2)\n",
      "Validation data: (2000, 2)\n",
      "Test data: (2000, 2)\n"
     ]
    }
   ],
   "source": [
    "# test data validity \n",
    "print('Dataset information:')\n",
    "print(f'Training data: {train.shape}')\n",
    "print(f'Validation data: {validate.shape}')\n",
    "print(f'Test data: {test.shape}')"
   ]
  },
  {
   "cell_type": "code",
   "execution_count": null,
   "id": "e5321859-38a5-48da-a91e-3d68d9d4930b",
   "metadata": {},
   "outputs": [],
   "source": []
  }
 ],
 "metadata": {
  "kernelspec": {
   "display_name": "Python 3 (ipykernel)",
   "language": "python",
   "name": "python3"
  },
  "language_info": {
   "codemirror_mode": {
    "name": "ipython",
    "version": 3
   },
   "file_extension": ".py",
   "mimetype": "text/x-python",
   "name": "python",
   "nbconvert_exporter": "python",
   "pygments_lexer": "ipython3",
   "version": "3.12.7"
  }
 },
 "nbformat": 4,
 "nbformat_minor": 5
}
