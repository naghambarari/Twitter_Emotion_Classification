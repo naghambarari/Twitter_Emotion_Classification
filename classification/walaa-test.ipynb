{
 "cells": [
  {
   "cell_type": "code",
   "execution_count": 2,
   "id": "44b7b272-8114-4dd3-8803-2bf86043ed76",
   "metadata": {},
   "outputs": [
    {
     "name": "stdout",
     "output_type": "stream",
     "text": [
      "walaa\n"
     ]
    }
   ],
   "source": [
    "print(\"walaa\")"
   ]
  },
  {
   "cell_type": "code",
   "execution_count": null,
   "id": "ed602ad5-a15d-4523-a291-60cd2cfbdbd7",
   "metadata": {},
   "outputs": [],
   "source": []
  }
 ],
 "metadata": {
  "kernelspec": {
   "display_name": "Python [conda env:base] *",
   "language": "python",
   "name": "conda-base-py"
  },
  "language_info": {
   "codemirror_mode": {
    "name": "ipython",
    "version": 3
   },
   "file_extension": ".py",
   "mimetype": "text/x-python",
   "name": "python",
   "nbconvert_exporter": "python",
   "pygments_lexer": "ipython3",
   "version": "3.12.7"
  }
 },
 "nbformat": 4,
 "nbformat_minor": 5
}
